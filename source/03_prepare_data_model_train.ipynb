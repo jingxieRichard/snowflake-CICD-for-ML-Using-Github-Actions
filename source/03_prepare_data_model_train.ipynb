{
 "cells": [
  {
   "cell_type": "markdown",
   "metadata": {},
   "source": [
    "# Imports"
   ]
  },
  {
   "cell_type": "code",
   "execution_count": 31,
   "metadata": {},
   "outputs": [],
   "source": [
    "from snowflake.snowpark.session import Session \n",
    "import snowflake.snowpark.types as T \n",
    "import snowflake.snowpark.functions as F \n",
    "from snowflake.ml.modeling.preprocessing import OneHotEncoder\n",
    "\n",
    "\n",
    "\n",
    "import warnings \n",
    "warnings.filterwarnings(\"ignore\")\n"
   ]
  },
  {
   "cell_type": "markdown",
   "metadata": {},
   "source": [
    "# Connect to Snowflake "
   ]
  },
  {
   "cell_type": "code",
   "execution_count": 32,
   "metadata": {},
   "outputs": [],
   "source": [
    "connection_params = {\n",
    "    \"connection_name\": \"default\"\n",
    "}\n",
    "\n",
    "# To establish a connection to Snowflake, create a Snowpark session and pass connection_params as an argument\n",
    "session = Session.builder.configs(connection_params).create()\n",
    "\n"
   ]
  },
  {
   "cell_type": "code",
   "execution_count": 33,
   "metadata": {},
   "outputs": [
    {
     "data": {
      "text/plain": [
       "[Row(CURRENT_WAREHOUSE()='JING_TEST_WH')]"
      ]
     },
     "execution_count": 33,
     "metadata": {},
     "output_type": "execute_result"
    }
   ],
   "source": [
    "# Find the current warehouse \n",
    "\n",
    "session.sql(\"SELECT CURRENT_WAREHOUSE()\").collect()"
   ]
  },
  {
   "cell_type": "markdown",
   "metadata": {},
   "source": [
    "# Prepare Data"
   ]
  },
  {
   "cell_type": "code",
   "execution_count": 40,
   "metadata": {},
   "outputs": [
    {
     "data": {
      "text/plain": [
       "[Row(status='Statement executed successfully.')]"
      ]
     },
     "execution_count": 40,
     "metadata": {},
     "output_type": "execute_result"
    }
   ],
   "source": [
    "session.sql(\"ALTER WAREHOUSE JING_TEST_WH SET WAREHOUSE_SIZE='LARGE'\").collect()"
   ]
  },
  {
   "cell_type": "code",
   "execution_count": 41,
   "metadata": {},
   "outputs": [],
   "source": [
    "session.use_database(\"ML_SNOWPARK_CI_CD_DB\")\n",
    "session.use_schema(\"DATA_PROCESSING\")"
   ]
  },
  {
   "cell_type": "code",
   "execution_count": 42,
   "metadata": {},
   "outputs": [
    {
     "data": {
      "text/plain": [
       "[Row(CURRENT_ROLE()='ACCOUNTADMIN')]"
      ]
     },
     "execution_count": 42,
     "metadata": {},
     "output_type": "execute_result"
    }
   ],
   "source": [
    "session.sql(\"SELECT CURRENT_ROLE()\").collect()"
   ]
  },
  {
   "cell_type": "code",
   "execution_count": 43,
   "metadata": {},
   "outputs": [
    {
     "name": "stdout",
     "output_type": "stream",
     "text": [
      "Application table size:  438557 \n",
      " Credit table size:  1048575\n"
     ]
    }
   ],
   "source": [
    "# Create a snowpark dataframe \n",
    "application_record_sdf = session.table(\"APPLICATION_RECORD\")\n",
    "credit_record_sdf = session.table(\"CREDIT_RECORD\")\n",
    "print(\"Application table size: \", application_record_sdf.count(), \n",
    "      \"\\n Credit table size: \", credit_record_sdf.count())"
   ]
  },
  {
   "cell_type": "code",
   "execution_count": 44,
   "metadata": {},
   "outputs": [
    {
     "name": "stdout",
     "output_type": "stream",
     "text": [
      "-----------------------------------------\n",
      "|\"ID\"     |\"MONTHS_BALANCE\"  |\"STATUS\"  |\n",
      "-----------------------------------------\n",
      "|5001711  |0                 |X         |\n",
      "|5001711  |-1                |0         |\n",
      "|5001711  |-2                |0         |\n",
      "|5001711  |-3                |0         |\n",
      "|5001712  |0                 |C         |\n",
      "-----------------------------------------\n",
      "\n"
     ]
    }
   ],
   "source": [
    "credit_record_sdf.show(5)"
   ]
  },
  {
   "cell_type": "code",
   "execution_count": 45,
   "metadata": {},
   "outputs": [
    {
     "name": "stdout",
     "output_type": "stream",
     "text": [
      "----------------------\n",
      "|\"ID\"     |\"TARGET\"  |\n",
      "----------------------\n",
      "|5001711  |0         |\n",
      "|5001712  |0         |\n",
      "|5001713  |0         |\n",
      "|5001714  |0         |\n",
      "|5001715  |0         |\n",
      "----------------------\n",
      "\n"
     ]
    }
   ],
   "source": [
    "# We will create a new column, TARGET, that will have a 1 for high-risk and 0 for low-risk.\n",
    "credit_record_sdf = (credit_record_sdf\n",
    "                     .group_by(\"ID\")\n",
    "                     .agg(F.sum(F.iff(F.col(\"STATUS\").in_(['2', '3', '4', '5']), 1, 0)).as_(\"CNT_LATE\"))\n",
    "                     .with_column(\"TARGET\", F.when(F.col(\"CNT_LATE\")>0, 1).otherwise(0))\n",
    "                     .drop(\"CNT_LATE\"))\n",
    "credit_record_sdf.show(5)"
   ]
  },
  {
   "cell_type": "code",
   "execution_count": 46,
   "metadata": {},
   "outputs": [
    {
     "name": "stdout",
     "output_type": "stream",
     "text": [
      "---------------------------------------------------------------------------------------------------------------------------------------------------------------------------------------------------------------------------------------------------------------------------------------------------------------------------------------------------------------\n",
      "|\"ID\"     |\"CODE_GENDER\"  |\"FLAG_OWN_CAR\"  |\"FLAG_OWN_REALTY\"  |\"CNT_CHILDREN\"  |\"AMT_INCOME_TOTAL\"  |\"NAME_INCOME_TYPE\"    |\"NAME_EDUCATION_TYPE\"          |\"NAME_FAMILY_STATUS\"  |\"NAME_HOUSING_TYPE\"  |\"DAYS_BIRTH\"  |\"DAYS_EMPLOYED\"  |\"FLAG_MOBIL\"  |\"FLAG_WORK_PHONE\"  |\"FLAG_PHONE\"  |\"FLAG_EMAIL\"  |\"OCCUPATION_TYPE\"  |\"CNT_FAM_MEMBERS\"  |\"TARGET\"  |\n",
      "---------------------------------------------------------------------------------------------------------------------------------------------------------------------------------------------------------------------------------------------------------------------------------------------------------------------------------------------------------------\n",
      "|5008804  |M              |Y               |Y                  |0               |427500.0            |Working               |Higher education               |Civil marriage        |Rented apartment     |-12005        |-4542            |1             |1                  |0             |0             |NULL               |2.0                |0         |\n",
      "|5008805  |M              |Y               |Y                  |0               |427500.0            |Working               |Higher education               |Civil marriage        |Rented apartment     |-12005        |-4542            |1             |1                  |0             |0             |NULL               |2.0                |0         |\n",
      "|5008806  |M              |Y               |Y                  |0               |112500.0            |Working               |Secondary / secondary special  |Married               |House / apartment    |-21474        |-1134            |1             |0                  |0             |0             |Security staff     |2.0                |0         |\n",
      "|5008808  |F              |N               |Y                  |0               |270000.0            |Commercial associate  |Secondary / secondary special  |Single / not married  |House / apartment    |-19110        |-3051            |1             |0                  |1             |1             |Sales staff        |1.0                |0         |\n",
      "|5008809  |F              |N               |Y                  |0               |270000.0            |Commercial associate  |Secondary / secondary special  |Single / not married  |House / apartment    |-19110        |-3051            |1             |0                  |1             |1             |Sales staff        |1.0                |0         |\n",
      "---------------------------------------------------------------------------------------------------------------------------------------------------------------------------------------------------------------------------------------------------------------------------------------------------------------------------------------------------------------\n",
      "\n"
     ]
    },
    {
     "data": {
      "text/plain": [
       "36457"
      ]
     },
     "execution_count": 46,
     "metadata": {},
     "output_type": "execute_result"
    }
   ],
   "source": [
    "# Join credit_record data with application_record data\n",
    "joined_sdf = application_record_sdf.join(credit_record_sdf, \"ID\", \"inner\")\n",
    "joined_sdf.show(5)\n",
    "joined_sdf.count()\n",
    "# Drop duplicates\n",
    "joined_sdf = joined_sdf.drop_duplicates(\"ID\")\n",
    "joined_sdf.count()"
   ]
  },
  {
   "cell_type": "code",
   "execution_count": 47,
   "metadata": {},
   "outputs": [
    {
     "name": "stdout",
     "output_type": "stream",
     "text": [
      "------------------------------------------------------------------------------------------------------------------------------------------------\n",
      "|\"AMT_INCOME_TOTAL\"  |\"DAYS_EMPLOYED\"  |\"FLAG_MOBIL\"  |\"CNT_FAM_MEMBERS\"  |\"TARGET\"  |\"CODE_GENDER\"  |\"NAME_HOUSING_TYPE\"  |\"OCCUPATION_TYPE\"  |\n",
      "------------------------------------------------------------------------------------------------------------------------------------------------\n",
      "|90000.0             |365243           |1             |2.0                |0         |F              |House / apartment    |NULL               |\n",
      "|90000.0             |-735             |1             |4.0                |0         |M              |House / apartment    |Laborers           |\n",
      "|135000.0            |-397             |1             |3.0                |0         |F              |House / apartment    |Accountants        |\n",
      "|216000.0            |-1457            |1             |3.0                |0         |M              |Rented apartment     |Laborers           |\n",
      "|166500.0            |-1046            |1             |3.0                |0         |M              |House / apartment    |Core staff         |\n",
      "------------------------------------------------------------------------------------------------------------------------------------------------\n",
      "\n"
     ]
    },
    {
     "data": {
      "text/plain": [
       "36457"
      ]
     },
     "execution_count": 47,
     "metadata": {},
     "output_type": "execute_result"
    }
   ],
   "source": [
    "# Select a few columns for modeling \n",
    "cols_numerical = [\"AMT_INCOME_TOTAL\", \"DAYS_EMPLOYED\", \"FLAG_MOBIL\", \"CNT_FAM_MEMBERS\", \"TARGET\"]\n",
    "cols_categorical = [\"CODE_GENDER\", \"NAME_HOUSING_TYPE\", \"OCCUPATION_TYPE\"]\n",
    "joined_sdf = joined_sdf[cols_numerical+cols_categorical]\n",
    "joined_sdf.show(5)\n",
    "joined_sdf.count()"
   ]
  },
  {
   "cell_type": "code",
   "execution_count": 48,
   "metadata": {},
   "outputs": [
    {
     "name": "stdout",
     "output_type": "stream",
     "text": [
      "----------------------------------------------------------------------------------------------------------------------------------------------------------------------------------------------------------------------------------------------------------------------------------------------------------------------------------------------------------------------------------------------------------------------------------------------------------------------------------------------------------------------------------------------------------------------------------------------------------------------------------------------------------------------------------------------------------------------------------------------------------------------------------------------------------------------------------------------------------------------------------------------------------------------------------------------------------------------------------------------------------------------------\n",
      "|\"CODE_GENDER_F\"  |\"CODE_GENDER_M\"  |\"NAME_HOUSING_TYPE_Co-op apartment\"  |\"NAME_HOUSING_TYPE_House / apartment\"  |\"NAME_HOUSING_TYPE_Municipal apartment\"  |\"NAME_HOUSING_TYPE_Office apartment\"  |\"NAME_HOUSING_TYPE_Rented apartment\"  |\"NAME_HOUSING_TYPE_With parents\"  |\"OCCUPATION_TYPE_Accountants\"  |\"OCCUPATION_TYPE_Cleaning staff\"  |\"OCCUPATION_TYPE_Cooking staff\"  |\"OCCUPATION_TYPE_Core staff\"  |\"OCCUPATION_TYPE_Drivers\"  |\"OCCUPATION_TYPE_HR staff\"  |\"OCCUPATION_TYPE_High skill tech staff\"  |\"OCCUPATION_TYPE_IT staff\"  |\"OCCUPATION_TYPE_Laborers\"  |\"OCCUPATION_TYPE_Low-skill Laborers\"  |\"OCCUPATION_TYPE_Managers\"  |\"OCCUPATION_TYPE_Medicine staff\"  |\"OCCUPATION_TYPE_Private service staff\"  |\"OCCUPATION_TYPE_Realty agents\"  |\"OCCUPATION_TYPE_Sales staff\"  |\"OCCUPATION_TYPE_Secretaries\"  |\"OCCUPATION_TYPE_Security staff\"  |\"OCCUPATION_TYPE_Waiters/barmen staff\"  |\"OCCUPATION_TYPE_None\"  |\"AMT_INCOME_TOTAL\"  |\"DAYS_EMPLOYED\"  |\"FLAG_MOBIL\"  |\"CNT_FAM_MEMBERS\"  |\"TARGET\"  |\n",
      "----------------------------------------------------------------------------------------------------------------------------------------------------------------------------------------------------------------------------------------------------------------------------------------------------------------------------------------------------------------------------------------------------------------------------------------------------------------------------------------------------------------------------------------------------------------------------------------------------------------------------------------------------------------------------------------------------------------------------------------------------------------------------------------------------------------------------------------------------------------------------------------------------------------------------------------------------------------------------------------------------------------------------\n",
      "|1.0              |0.0              |0.0                                  |1.0                                    |0.0                                      |0.0                                   |0.0                                   |0.0                               |0.0                            |0.0                               |0.0                              |0.0                           |0.0                        |0.0                         |0.0                                      |0.0                         |0.0                         |0.0                                   |1.0                         |0.0                               |0.0                                      |0.0                              |0.0                            |0.0                            |0.0                               |0.0                                     |0.0                     |450000.0            |-2470            |1             |2.0                |0         |\n",
      "|1.0              |0.0              |0.0                                  |1.0                                    |0.0                                      |0.0                                   |0.0                                   |0.0                               |0.0                            |0.0                               |0.0                              |1.0                           |0.0                        |0.0                         |0.0                                      |0.0                         |0.0                         |0.0                                   |0.0                         |0.0                               |0.0                                      |0.0                              |0.0                            |0.0                            |0.0                               |0.0                                     |0.0                     |135000.0            |-777             |1             |2.0                |0         |\n",
      "|0.0              |1.0              |0.0                                  |0.0                                    |0.0                                      |0.0                                   |0.0                                   |1.0                               |0.0                            |0.0                               |0.0                              |0.0                           |0.0                        |0.0                         |0.0                                      |0.0                         |1.0                         |0.0                                   |0.0                         |0.0                               |0.0                                      |0.0                              |0.0                            |0.0                            |0.0                               |0.0                                     |0.0                     |270000.0            |-2202            |1             |2.0                |0         |\n",
      "|1.0              |0.0              |0.0                                  |1.0                                    |0.0                                      |0.0                                   |0.0                                   |0.0                               |0.0                            |0.0                               |0.0                              |0.0                           |0.0                        |0.0                         |0.0                                      |0.0                         |0.0                         |0.0                                   |0.0                         |0.0                               |0.0                                      |0.0                              |1.0                            |0.0                            |0.0                               |0.0                                     |0.0                     |180000.0            |-4354            |1             |2.0                |0         |\n",
      "|1.0              |0.0              |0.0                                  |1.0                                    |0.0                                      |0.0                                   |0.0                                   |0.0                               |1.0                            |0.0                               |0.0                              |0.0                           |0.0                        |0.0                         |0.0                                      |0.0                         |0.0                         |0.0                                   |0.0                         |0.0                               |0.0                                      |0.0                              |0.0                            |0.0                            |0.0                               |0.0                                     |0.0                     |180000.0            |-8923            |1             |3.0                |0         |\n",
      "----------------------------------------------------------------------------------------------------------------------------------------------------------------------------------------------------------------------------------------------------------------------------------------------------------------------------------------------------------------------------------------------------------------------------------------------------------------------------------------------------------------------------------------------------------------------------------------------------------------------------------------------------------------------------------------------------------------------------------------------------------------------------------------------------------------------------------------------------------------------------------------------------------------------------------------------------------------------------------------------------------------------------\n",
      "\n"
     ]
    },
    {
     "data": {
      "text/plain": [
       "['CODE_GENDER_F',\n",
       " 'CODE_GENDER_M',\n",
       " '\"NAME_HOUSING_TYPE_Co-op apartment\"',\n",
       " '\"NAME_HOUSING_TYPE_House / apartment\"',\n",
       " '\"NAME_HOUSING_TYPE_Municipal apartment\"',\n",
       " '\"NAME_HOUSING_TYPE_Office apartment\"',\n",
       " '\"NAME_HOUSING_TYPE_Rented apartment\"',\n",
       " '\"NAME_HOUSING_TYPE_With parents\"',\n",
       " '\"OCCUPATION_TYPE_Accountants\"',\n",
       " '\"OCCUPATION_TYPE_Cleaning staff\"',\n",
       " '\"OCCUPATION_TYPE_Cooking staff\"',\n",
       " '\"OCCUPATION_TYPE_Core staff\"',\n",
       " '\"OCCUPATION_TYPE_Drivers\"',\n",
       " '\"OCCUPATION_TYPE_HR staff\"',\n",
       " '\"OCCUPATION_TYPE_High skill tech staff\"',\n",
       " '\"OCCUPATION_TYPE_IT staff\"',\n",
       " '\"OCCUPATION_TYPE_Laborers\"',\n",
       " '\"OCCUPATION_TYPE_Low-skill Laborers\"',\n",
       " '\"OCCUPATION_TYPE_Managers\"',\n",
       " '\"OCCUPATION_TYPE_Medicine staff\"',\n",
       " '\"OCCUPATION_TYPE_Private service staff\"',\n",
       " '\"OCCUPATION_TYPE_Realty agents\"',\n",
       " '\"OCCUPATION_TYPE_Sales staff\"',\n",
       " '\"OCCUPATION_TYPE_Secretaries\"',\n",
       " '\"OCCUPATION_TYPE_Security staff\"',\n",
       " '\"OCCUPATION_TYPE_Waiters/barmen staff\"',\n",
       " '\"OCCUPATION_TYPE_None\"',\n",
       " 'AMT_INCOME_TOTAL',\n",
       " 'DAYS_EMPLOYED',\n",
       " 'FLAG_MOBIL',\n",
       " 'CNT_FAM_MEMBERS',\n",
       " 'TARGET']"
      ]
     },
     "execution_count": 48,
     "metadata": {},
     "output_type": "execute_result"
    }
   ],
   "source": [
    "# Perform one-hot-encoding for categorical columsn \n",
    "my_ohe_encoder = OneHotEncoder(input_cols=cols_categorical, output_cols=cols_categorical, drop_input_cols=True)\n",
    "prepared_sdf = my_ohe_encoder.fit(joined_sdf).transform(joined_sdf)\n",
    "\n",
    "prepared_sdf.show(5)\n",
    "prepared_sdf.columns"
   ]
  },
  {
   "cell_type": "code",
   "execution_count": 49,
   "metadata": {},
   "outputs": [
    {
     "name": "stdout",
     "output_type": "stream",
     "text": [
      "old columns:  ['CODE_GENDER_F', 'CODE_GENDER_M', '\"NAME_HOUSING_TYPE_Co-op apartment\"', '\"NAME_HOUSING_TYPE_House / apartment\"', '\"NAME_HOUSING_TYPE_Municipal apartment\"', '\"NAME_HOUSING_TYPE_Office apartment\"', '\"NAME_HOUSING_TYPE_Rented apartment\"', '\"NAME_HOUSING_TYPE_With parents\"', '\"OCCUPATION_TYPE_Accountants\"', '\"OCCUPATION_TYPE_Cleaning staff\"', '\"OCCUPATION_TYPE_Cooking staff\"', '\"OCCUPATION_TYPE_Core staff\"', '\"OCCUPATION_TYPE_Drivers\"', '\"OCCUPATION_TYPE_HR staff\"', '\"OCCUPATION_TYPE_High skill tech staff\"', '\"OCCUPATION_TYPE_IT staff\"', '\"OCCUPATION_TYPE_Laborers\"', '\"OCCUPATION_TYPE_Low-skill Laborers\"', '\"OCCUPATION_TYPE_Managers\"', '\"OCCUPATION_TYPE_Medicine staff\"', '\"OCCUPATION_TYPE_Private service staff\"', '\"OCCUPATION_TYPE_Realty agents\"', '\"OCCUPATION_TYPE_Sales staff\"', '\"OCCUPATION_TYPE_Secretaries\"', '\"OCCUPATION_TYPE_Security staff\"', '\"OCCUPATION_TYPE_Waiters/barmen staff\"', '\"OCCUPATION_TYPE_None\"', 'AMT_INCOME_TOTAL', 'DAYS_EMPLOYED', 'FLAG_MOBIL', 'CNT_FAM_MEMBERS', 'TARGET']\n"
     ]
    },
    {
     "data": {
      "text/plain": [
       "['CODE_GENDER_F',\n",
       " 'CODE_GENDER_M',\n",
       " 'NAME_HOUSING_TYPE_COOPAPARTMENT',\n",
       " 'NAME_HOUSING_TYPE_HOUSEAPARTMENT',\n",
       " 'NAME_HOUSING_TYPE_MUNICIPALAPARTMENT',\n",
       " 'NAME_HOUSING_TYPE_OFFICEAPARTMENT',\n",
       " 'NAME_HOUSING_TYPE_RENTEDAPARTMENT',\n",
       " 'NAME_HOUSING_TYPE_WITHPARENTS',\n",
       " 'OCCUPATION_TYPE_ACCOUNTANTS',\n",
       " 'OCCUPATION_TYPE_CLEANINGSTAFF',\n",
       " 'OCCUPATION_TYPE_COOKINGSTAFF',\n",
       " 'OCCUPATION_TYPE_CORESTAFF',\n",
       " 'OCCUPATION_TYPE_DRIVERS',\n",
       " 'OCCUPATION_TYPE_HRSTAFF',\n",
       " 'OCCUPATION_TYPE_HIGHSKILLTECHSTAFF',\n",
       " 'OCCUPATION_TYPE_ITSTAFF',\n",
       " 'OCCUPATION_TYPE_LABORERS',\n",
       " 'OCCUPATION_TYPE_LOWSKILLLABORERS',\n",
       " 'OCCUPATION_TYPE_MANAGERS',\n",
       " 'OCCUPATION_TYPE_MEDICINESTAFF',\n",
       " 'OCCUPATION_TYPE_PRIVATESERVICESTAFF',\n",
       " 'OCCUPATION_TYPE_REALTYAGENTS',\n",
       " 'OCCUPATION_TYPE_SALESSTAFF',\n",
       " 'OCCUPATION_TYPE_SECRETARIES',\n",
       " 'OCCUPATION_TYPE_SECURITYSTAFF',\n",
       " 'OCCUPATION_TYPE_WAITERSBARMENSTAFF',\n",
       " 'OCCUPATION_TYPE_NONE',\n",
       " 'AMT_INCOME_TOTAL',\n",
       " 'DAYS_EMPLOYED',\n",
       " 'FLAG_MOBIL',\n",
       " 'CNT_FAM_MEMBERS',\n",
       " 'TARGET']"
      ]
     },
     "execution_count": 49,
     "metadata": {},
     "output_type": "execute_result"
    }
   ],
   "source": [
    "# Cleaning column names to make it easier for future referencing \n",
    "\n",
    "import re \n",
    "\n",
    "cols = prepared_sdf.columns \n",
    "print(\"old columns: \", cols)\n",
    "for old_col in cols:\n",
    "    new_col = re.sub(r'[^a-zA-Z0-9_]', '', old_col)\n",
    "    new_col = new_col.upper()\n",
    "    prepared_sdf = prepared_sdf.rename(F.col(old_col), new_col)\n",
    "\n",
    "\n",
    "prepared_sdf.columns"
   ]
  },
  {
   "cell_type": "code",
   "execution_count": 50,
   "metadata": {},
   "outputs": [],
   "source": [
    "# Split the data and save the train and test sets as tables in Snowflake \n",
    "snowdf_train, snowdf_test, snowdf_processed = prepared_sdf.random_split([0.8, 0.1, 0.1], seed=99)\n",
    "snowdf_train.write.mode(\"overwrite\").save_as_table(\"CREDIT_DEFAULT_TRAIN\")\n",
    "snowdf_test.write.mode(\"overwrite\").save_as_table(\"CREDIT_DEFAULT_TEST\")\n",
    "snowdf_processed.write.mode(\"overwrite\").save_as_table(\"CREDIT_DEFAULT_PROCESSED\")"
   ]
  },
  {
   "cell_type": "markdown",
   "metadata": {},
   "source": [
    "# Reset the warehouse size back to xsmall and close the session "
   ]
  },
  {
   "cell_type": "code",
   "execution_count": 51,
   "metadata": {},
   "outputs": [],
   "source": [
    "session.sql(\"ALTER WAREHOUSE JING_TEST_WH SET WAREHOUSE_SIZE='XSMALL'\").collect()\n",
    "\n",
    "session.close()"
   ]
  },
  {
   "cell_type": "code",
   "execution_count": null,
   "metadata": {},
   "outputs": [],
   "source": []
  }
 ],
 "metadata": {
  "kernelspec": {
   "display_name": "pysnowpark_ml_ops",
   "language": "python",
   "name": "python3"
  },
  "language_info": {
   "codemirror_mode": {
    "name": "ipython",
    "version": 3
   },
   "file_extension": ".py",
   "mimetype": "text/x-python",
   "name": "python",
   "nbconvert_exporter": "python",
   "pygments_lexer": "ipython3",
   "version": "3.9.20"
  }
 },
 "nbformat": 4,
 "nbformat_minor": 2
}
